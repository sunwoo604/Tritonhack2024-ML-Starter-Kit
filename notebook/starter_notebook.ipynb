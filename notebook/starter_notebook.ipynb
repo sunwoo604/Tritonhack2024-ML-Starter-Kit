{
 "cells": [
  {
   "cell_type": "markdown",
   "metadata": {},
   "source": [
    "# Welcome to the Intro to Machine Learning with TritonHack 2024!\n",
    "\n",
    "### Importing Packages\n",
    "Import statements allow us to use library and the built-in functions within the library so we can utilize them!\\\n",
    "First, we are going to import pacakges that are going to be very basic for the Data Science Project!"
   ]
  },
  {
   "cell_type": "code",
   "execution_count": null,
   "metadata": {},
   "outputs": [],
   "source": [
    "import numpy as np\n",
    "import pandas as pd\n",
    "import warnings\n",
    "warnings.filterwarnings('ignore')"
   ]
  },
  {
   "cell_type": "markdown",
   "metadata": {},
   "source": [
    "First, we are going to start off with loading the data. \\\n",
    "You do not have to follow our structure and replace the string in read_csv() with the anticipated path.\\\n",
    "For now, we can use the given structure and dataset.\\\n",
    "\\\n",
    "read_csv() function will allow us to load the dataset in csv format into the format called DataFrame which is a super common form of data in Data Science.\n",
    "head() function is a built in function within Dataframe which will only let you see the top portion of it."
   ]
  },
  {
   "cell_type": "code",
   "execution_count": null,
   "metadata": {},
   "outputs": [],
   "source": [
    "data = pd.read_csv('../data/train_extended.csv')\n",
    "data.head()"
   ]
  },
  {
   "cell_type": "markdown",
   "metadata": {},
   "source": [
    "So let's see what are some columns that we have right now."
   ]
  },
  {
   "cell_type": "code",
   "execution_count": null,
   "metadata": {},
   "outputs": [],
   "source": [
    "data.columns"
   ]
  },
  {
   "cell_type": "markdown",
   "metadata": {},
   "source": [
    "Seems like column 'id' is just and index so we will not be using that"
   ]
  },
  {
   "cell_type": "code",
   "execution_count": null,
   "metadata": {},
   "outputs": [],
   "source": [
    "data = data.drop(['id'],axis=1)\n",
    "data.head()"
   ]
  },
  {
   "cell_type": "markdown",
   "metadata": {},
   "source": [
    "# Baseline Model\n",
    "\n",
    "Let's start with the very basic model! We are going to be use the linear regression model from scikit-learn.\\\n",
    "This will be our very base model and your goal is to build a model that performs better!\\\n",
    "\n",
    "## Linear Regression\n",
    "\n",
    "It is a very fundamental algorithm in statistic and the simplest way to explain linear regression is to find the 'line of best fit'.\\\n",
    "There will be different given factors(which we call them 'variables') such as length, diameter, etc. and the model will determine the age based on the given factors\\\n",
    "As a data scientist, one of our main jobs is to find the relevant variables out of given information."
   ]
  },
  {
   "cell_type": "markdown",
   "metadata": {},
   "source": [
    "So first, we will start by importing the pre-built model"
   ]
  },
  {
   "cell_type": "code",
   "execution_count": null,
   "metadata": {},
   "outputs": [],
   "source": [
    "from sklearn.linear_model import LinearRegression\n",
    "from sklearn.model_selection import train_test_split"
   ]
  },
  {
   "cell_type": "markdown",
   "metadata": {},
   "source": [
    "Since Linear Regression is technically a mathmetical equation(or prompt), we will drop column 'sex' which is a string value, not integer or simply, number.\\\n",
    "(However, sex might be, or probably, relavant information that we want to utilize. We will teach you how to utilize them later on)."
   ]
  },
  {
   "cell_type": "markdown",
   "metadata": {},
   "source": [
    "We will save data without 'sex' in the seperate dataframe called 'data_no_sex' since we might still want to have an access to the full data."
   ]
  },
  {
   "cell_type": "code",
   "execution_count": null,
   "metadata": {},
   "outputs": [],
   "source": [
    "data_no_sex =  data.drop(['Sex'],axis=1)\n",
    "data_no_sex.head()"
   ]
  },
  {
   "cell_type": "code",
   "execution_count": null,
   "metadata": {},
   "outputs": [],
   "source": [
    "data.head()"
   ]
  },
  {
   "cell_type": "markdown",
   "metadata": {},
   "source": [
    "## Linear Regression Model\n",
    "\n",
    "What we are going to do is to split our dataset into 2 differet subset: training and test set\\\n",
    "What are those?\\\n",
    "Training set is used to literally \"train\" the model. The model will understand the pattern between given variables and determine the value.\\\n",
    "Test set is used to \"test\" how well our model perform. Using given function of sckit-learn, we will split them into training and test.\n",
    "\n",
    "test_size parameter refers the the proportion(size) of the test dataset out of the whole dataset.\\\n",
    "random_state is setting a seed. Though train_test_split supposed to be random function, to see if you are actually making progress,\\\n",
    "you might want to compare ouputs under same conditions. To do so, we are setting a 'seed'(like Minecraft!)."
   ]
  },
  {
   "cell_type": "markdown",
   "metadata": {},
   "source": [
    "## Independent and Dependent variable\n",
    "\n",
    "Independent variables are what we expect will influence dependent variables. A dependent variable is what happens as a result of the independent variable.\\\n",
    "In machine learning project, we want to 'predict' dependent variable(or so called 'Y' of the function) using independent variable(or so called 'X').\\\n",
    "In our case, we want to predict the age, so age will be dependent variable(or y) and the rest will be independent variables(or X)"
   ]
  },
  {
   "cell_type": "code",
   "execution_count": null,
   "metadata": {},
   "outputs": [],
   "source": [
    "y = data_no_sex['Age']\n",
    "X = data_no_sex.drop(['Age'],axis=1)\n",
    "X_train, X_test, y_train, y_test = train_test_split(X, y, test_size=0.33, random_state=21)"
   ]
  },
  {
   "cell_type": "code",
   "execution_count": null,
   "metadata": {},
   "outputs": [],
   "source": [
    "print(len(data_no_sex))\n",
    "print(len(X))\n",
    "print(len(y))\n",
    "print(len(X_train))\n",
    "print(len(X_test))\n",
    "print(len(y_train))\n",
    "print(len(y_test))"
   ]
  },
  {
   "cell_type": "markdown",
   "metadata": {},
   "source": [
    "Here, the fit() function generates the trained model with the given dataset.\\\n",
    "The score() function shows how \"well\" the model is predicting. \\\n",
    "0 shows the model is completely random(or not finding any correlation between independent and dependent variables)\\\n",
    "while 1 is saying the model found the complete relationship between independent and dependent variables."
   ]
  },
  {
   "cell_type": "code",
   "execution_count": null,
   "metadata": {},
   "outputs": [],
   "source": [
    "model = LinearRegression().fit(X_train, y_train)\n",
    "model.score(X_train, y_train)\n"
   ]
  },
  {
   "cell_type": "code",
   "execution_count": null,
   "metadata": {},
   "outputs": [],
   "source": [
    "model.score(X_test, y_test)"
   ]
  },
  {
   "cell_type": "markdown",
   "metadata": {},
   "source": [
    "Model has slightly lower score on test set compared to the result of training set. Why?"
   ]
  },
  {
   "cell_type": "markdown",
   "metadata": {},
   "source": [
    "This how to view coefficients(which shows that 'relationship', or how much each independet variable affects the depedent variable)\\\n",
    "and interncept(y-intercept in this case because we are trying to find the 'line of best fit')."
   ]
  },
  {
   "cell_type": "code",
   "execution_count": null,
   "metadata": {},
   "outputs": [],
   "source": [
    "print(model.coef_)\n",
    "print(model.intercept_)"
   ]
  },
  {
   "cell_type": "markdown",
   "metadata": {},
   "source": [
    "Now this is the time to see the actual prediction values that our model is generating."
   ]
  },
  {
   "cell_type": "code",
   "execution_count": null,
   "metadata": {},
   "outputs": [],
   "source": [
    "prediction = model.predict(X_train)\n",
    "prediction\n"
   ]
  },
  {
   "cell_type": "markdown",
   "metadata": {},
   "source": [
    "One of the most common ways to quantify the error of the model is the root mean squared error (RMSE)\\\n",
    "Under given predictions of the model, we calculate the difference between the prediction and the actual value(or observed value),\\\n",
    "square the difference, calculated the mean of the squared difference, and 'root'(square root) them.\\\n",
    "\\\n",
    "This function will allow us to calculate RMSE\n",
    "(and cool thing about numpy array is that it works as a 'vector' or 'matrix' where we do not need to use any iteration but just treat them as a number)"
   ]
  },
  {
   "cell_type": "code",
   "execution_count": null,
   "metadata": {},
   "outputs": [],
   "source": [
    "def RMSE(y,pred):\n",
    "    return np.sqrt(np.mean((y-pred)**2))"
   ]
  },
  {
   "cell_type": "code",
   "execution_count": null,
   "metadata": {},
   "outputs": [],
   "source": [
    "RMSE(y_train,prediction)"
   ]
  },
  {
   "cell_type": "markdown",
   "metadata": {},
   "source": [
    "### Wait...\n",
    "If you look back, the predictions are decimal numbers....\n",
    "But is it possible to have decimal number as your age?(Unless you want to be specific and sound like a weirdo).\n",
    "Therefore, we will use round() to round the number to integer."
   ]
  },
  {
   "cell_type": "code",
   "execution_count": null,
   "metadata": {},
   "outputs": [],
   "source": [
    "## [ ... for i in ...] is called list comprehension syntax in Python.\n",
    "## https://www.w3schools.com/python/python_lists_comprehension.asp refer to this link if you want to know futher about it\n",
    "prediction = np.array([round(i) for i in model.predict(X_train)])\n",
    "prediction"
   ]
  },
  {
   "cell_type": "markdown",
   "metadata": {},
   "source": [
    "Now it is giving us integer values. Let's see how off we are!"
   ]
  },
  {
   "cell_type": "code",
   "execution_count": null,
   "metadata": {},
   "outputs": [],
   "source": [
    "RMSE(y_train,prediction)"
   ]
  },
  {
   "cell_type": "markdown",
   "metadata": {},
   "source": [
    "How bout the accuracy on our test set?(This is what we ACTUALLY want to know)"
   ]
  },
  {
   "cell_type": "code",
   "execution_count": null,
   "metadata": {},
   "outputs": [],
   "source": [
    "prediction = np.array([round(i) for i in model.predict(X_test)])\n",
    "RMSE(y_test,prediction)"
   ]
  },
  {
   "cell_type": "markdown",
   "metadata": {},
   "source": [
    "Overall, we are expecting our model to off by around 2 years to the actual age. \n",
    "Not TOO bad for the very basic approach but not satisfying. Is there any other ways to improve our model?"
   ]
  }
 ],
 "metadata": {
  "kernelspec": {
   "display_name": "Python 3 (ipykernel)",
   "language": "python",
   "name": "python3"
  },
  "language_info": {
   "codemirror_mode": {
    "name": "ipython",
    "version": 3
   },
   "file_extension": ".py",
   "mimetype": "text/x-python",
   "name": "python",
   "nbconvert_exporter": "python",
   "pygments_lexer": "ipython3",
   "version": "3.9.18"
  }
 },
 "nbformat": 4,
 "nbformat_minor": 4
}
